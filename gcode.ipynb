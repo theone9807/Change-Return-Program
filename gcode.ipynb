{
 "cells": [
  {
   "cell_type": "code",
   "execution_count": 6,
   "metadata": {},
   "outputs": [],
   "source": [
    "\"\"\"\n",
    "Q. Change Return Program - The user enters a cost and then the amount of money given. The program will\n",
    "   figure out the change and the number of quarters, dimes, nickels, pennies needed for the change.\n",
    "\"\"\"\n",
    "#import math module \n",
    "import math\n",
    "\n",
    "def Change_Return_Program(denom,money):\n",
    "    i   = 0\n",
    "    used= [0]*len(denom)\n",
    "    while(money >0):# go until all money gone\n",
    "        \n",
    "        num = math.floor(money/denom[i]) \n",
    "        used[i] = num # say we've used it\n",
    "        money = money-num*denom[i] # set new \n",
    "        i = i + 1 # go to next denom\n",
    "    return used"
   ]
  },
  {
   "cell_type": "code",
   "execution_count": null,
   "metadata": {},
   "outputs": [],
   "source": []
  }
 ],
 "metadata": {
  "kernelspec": {
   "display_name": "Python 3",
   "language": "python",
   "name": "python3"
  },
  "language_info": {
   "codemirror_mode": {
    "name": "ipython",
    "version": 3
   },
   "file_extension": ".py",
   "mimetype": "text/x-python",
   "name": "python",
   "nbconvert_exporter": "python",
   "pygments_lexer": "ipython3",
   "version": "3.6.6"
  }
 },
 "nbformat": 4,
 "nbformat_minor": 2
}
